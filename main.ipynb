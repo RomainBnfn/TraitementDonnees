{
 "cells": [
  {
   "cell_type": "code",
   "execution_count": 32,
   "metadata": {},
   "outputs": [
    {
     "name": "stderr",
     "output_type": "stream",
     "text": [
      "c:\\Users\\Ordi\\Documents\\GitHub\\TraitementDonnees\\venv\\lib\\site-packages\\IPython\\core\\interactiveshell.py:3457: DtypeWarning: Columns (3) have mixed types.Specify dtype option on import or set low_memory=False.\n",
      "  exec(code_obj, self.user_global_ns, self.user_ns)\n"
     ]
    },
    {
     "name": "stdout",
     "output_type": "stream",
     "text": [
      "55\n",
      "17 15\n",
      "98 98\n"
     ]
    }
   ],
   "source": [
    "import pandas as pd\n",
    "df_2018 = pd.read_csv('FD_MAR_2018.csv', sep=';')\n",
    "df_2019 = pd.read_csv('FD_MAR_2019.csv', sep=';')\n",
    "#\n",
    "df = pd.concat([df_2018, df_2019])\n",
    "df['AGE1'] = df['AMAR']-df['ANAIS1']\n",
    "df['AGE2'] = df['AMAR']-df['ANAIS2']\n",
    "df['DIFAGE'] = abs(df['ANAIS1']-df['ANAIS2'])\n",
    "df.sample(3)\n",
    "\n",
    "print(max(df['DIFAGE']))\n",
    "print(min(df['AGE1']), min(df['AGE2']))\n",
    "print(max(df['AGE1']), max(df['AGE2']))\n"
   ]
  },
  {
   "cell_type": "code",
   "execution_count": null,
   "metadata": {},
   "outputs": [],
   "source": []
  }
 ],
 "metadata": {
  "interpreter": {
   "hash": "87b16df3bda5deef1221953841b50bc2bad147b317cbe34b1dfa8588a4e663b6"
  },
  "kernelspec": {
   "display_name": "Python 3.9.7 64-bit ('venv': venv)",
   "language": "python",
   "name": "python3"
  },
  "language_info": {
   "codemirror_mode": {
    "name": "ipython",
    "version": 3
   },
   "file_extension": ".py",
   "mimetype": "text/x-python",
   "name": "python",
   "nbconvert_exporter": "python",
   "pygments_lexer": "ipython3",
   "version": "3.9.7"
  },
  "orig_nbformat": 4
 },
 "nbformat": 4,
 "nbformat_minor": 2
}
